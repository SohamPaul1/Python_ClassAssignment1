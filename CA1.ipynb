{
 "cells": [
  {
   "cell_type": "code",
   "execution_count": 3,
   "metadata": {},
   "outputs": [
    {
     "name": "stdout",
     "output_type": "stream",
     "text": [
      "Sum is :  369.98\n",
      "Average is :  123.33\n"
     ]
    }
   ],
   "source": [
    "#1. Write a program in Python to find the addition & average of three float numbers.\n",
    "a = float(input(\"Enter 1st number : \"))\n",
    "b = float(input(\"Enter 2nd number : \"))\n",
    "c = float(input(\"Enter 3rd number : \"))\n",
    "\n",
    "sum = a + b + c\n",
    "avg = sum / 3\n",
    "\n",
    "print(\"Sum is : \",sum)\n",
    "print(\"Average is : \",round(avg,2))"
   ]
  },
  {
   "cell_type": "code",
   "execution_count": 5,
   "metadata": {},
   "outputs": [
    {
     "name": "stdout",
     "output_type": "stream",
     "text": [
      "The volume is :  905.14\n"
     ]
    }
   ],
   "source": [
    "# 2. Write a program in Python to find the volume of a sphere with radius 6cm.\n",
    "r = 6\n",
    "vol = (4/3) * (22/7) * r**3\n",
    "print(\"The volume is : \",round(vol,2))"
   ]
  },
  {
   "cell_type": "code",
   "execution_count": 8,
   "metadata": {},
   "outputs": [
    {
     "name": "stdout",
     "output_type": "stream",
     "text": [
      "The area is  :  4.75\n"
     ]
    }
   ],
   "source": [
    "#3. Write a program in Python to find the area of a circle.\n",
    "r = float(input(\"Enter the radius of the circle : \"))\n",
    "area = (22/7) * r**2\n",
    "print(\"The area is  : \",round(area,2))"
   ]
  },
  {
   "cell_type": "code",
   "execution_count": 10,
   "metadata": {},
   "outputs": [
    {
     "name": "stdout",
     "output_type": "stream",
     "text": [
      "The Simple Interest is :  126000.0\n"
     ]
    }
   ],
   "source": [
    "#4. Write a program in Python to compute simple Interest.\n",
    "principal = float(input(\"Enter the principal amount : \"))\n",
    "rate = float(input(\"Enter the rate of interest : \"))\n",
    "time = float(input(\"Enter the time period (in years) : \"))\n",
    "\n",
    "SI = (principal*rate*time)/100\n",
    "\n",
    "print(\"The Simple Interest is : \",SI)"
   ]
  },
  {
   "cell_type": "code",
   "execution_count": 11,
   "metadata": {},
   "outputs": [
    {
     "name": "stdout",
     "output_type": "stream",
     "text": [
      "Values before swapping : \n",
      " a =  10  , b =  20\n",
      "Values after swapping : \n",
      " a =  20  , b =  10\n"
     ]
    }
   ],
   "source": [
    "#5. Write a program in Python to swap two numbers without using third variable\n",
    "a = int(input(\"Enter the value of a : \"))\n",
    "b = int(input(\"Enter the value of b : \"))\n",
    "\n",
    "print(\"Values before swapping : \\n a = \",a,\" , b = \",b)\n",
    "\n",
    "a = a + b\n",
    "b = a - b \n",
    "a = a - b\n",
    "\n",
    "print(\"Values after swapping : \\n a = \",a,\" , b = \",b)"
   ]
  },
  {
   "cell_type": "code",
   "execution_count": 13,
   "metadata": {},
   "outputs": [
    {
     "name": "stdout",
     "output_type": "stream",
     "text": [
      "Temperature in farenheit : 253.4F\n"
     ]
    }
   ],
   "source": [
    "#6. Write a program in Python to convert any temperature from Celcius to Fahrenheit.\n",
    "c = int(input(\"Enter temperature in Celsius : \"))\n",
    "f = 1.8*c + 32\n",
    "print(f\"Temperature in farenheit : {f}F\")\n"
   ]
  },
  {
   "cell_type": "code",
   "execution_count": 14,
   "metadata": {},
   "outputs": [
    {
     "name": "stdout",
     "output_type": "stream",
     "text": [
      "1 Years , 0 months , 0 week , 0 days\n"
     ]
    }
   ],
   "source": [
    "# 7. Write a program in Python to convert a given number of days into days, month, year and week.\n",
    "day = int(input(\"Enter the number of days : \"))\n",
    "\n",
    "year = day//365\n",
    "month = (day%365)//30\n",
    "weeks = ((day%365)%30)//7\n",
    "days = ((day%365)%30)%7\n",
    "\n",
    "print(f\"{year} Years , {month} months , {weeks} week , {days} days\")"
   ]
  },
  {
   "cell_type": "code",
   "execution_count": 15,
   "metadata": {},
   "outputs": [
    {
     "name": "stdout",
     "output_type": "stream",
     "text": [
      "The gravitational force between the two objects is: 1.3348599999999998e-12 N\n"
     ]
    }
   ],
   "source": [
    "#8. Write a Python Program to find the gravitational force acting between two objects. [G=N*(m1*m2)/d^2]\n",
    "m1 = float(input(\"Enter the mass of the first object (in kg): \"))\n",
    "m2 = float(input(\"Enter the mass of the second object (in kg): \"))\n",
    "r = float(input(\"Enter the distance between the two objects (in meters): \"))\n",
    "\n",
    "G = 6.67430e-11  \n",
    "force = (G * m1 * m2) / (r ** 2)\n",
    "\n",
    "print(f\"The gravitational force between the two objects is: {force} N\")"
   ]
  },
  {
   "cell_type": "code",
   "execution_count": 16,
   "metadata": {},
   "outputs": [
    {
     "name": "stdout",
     "output_type": "stream",
     "text": [
      "12 is Even\n"
     ]
    }
   ],
   "source": [
    "#9. Write a program in Python to find given no is Even or Odd.\n",
    "num = int(input(\"Enter a number : \"))\n",
    "\n",
    "if (num%2==0):\n",
    "    print(f\"{num} is Even\")\n",
    "else:\n",
    "    print(f\"{num} is Odd\")"
   ]
  },
  {
   "cell_type": "code",
   "execution_count": 17,
   "metadata": {},
   "outputs": [
    {
     "name": "stdout",
     "output_type": "stream",
     "text": [
      "6\n"
     ]
    }
   ],
   "source": [
    "#10. Take input from user if it is greater than 15 print two times of difference if it’s less than 15 print four times of difference.\n",
    "num = int(input(\"Enter a number : \"))\n",
    "\n",
    "if num > 15 :\n",
    "    print(2*(abs(num-15)))\n",
    "else:\n",
    "    print(4*(abs(num-15)))"
   ]
  },
  {
   "cell_type": "code",
   "execution_count": 18,
   "metadata": {},
   "outputs": [
    {
     "name": "stdout",
     "output_type": "stream",
     "text": [
      "14 is greatest\n"
     ]
    }
   ],
   "source": [
    "#11. Write a program in Python to find largest among three numbers.\n",
    "num1 = int(input(\"Enter first number : \"))\n",
    "num2 = int(input(\"Enter second number : \"))\n",
    "num3 = int(input(\"Enter third number : \"))\n",
    "\n",
    "if num1>num2:\n",
    "    if(num1>num3):\n",
    "        print(f\"{num1} is greatest\")\n",
    "    else:\n",
    "        print(f\"{num3} is greatest\")\n",
    "else:\n",
    "    if(num2>num3):\n",
    "        print(f\"{num2} is greatest\")\n",
    "    else:\n",
    "        print(f\"{num3} is greatest\")"
   ]
  },
  {
   "cell_type": "code",
   "execution_count": 19,
   "metadata": {},
   "outputs": [
    {
     "name": "stdout",
     "output_type": "stream",
     "text": [
      "Neither Equilateral triangle nor scalene triangle\n"
     ]
    }
   ],
   "source": [
    "#12. Write a program in Python to check a triangle is equilateral,scalene or isosclees..\n",
    "side1 = int(input(\"Enter side 1 : \"))\n",
    "side2 = int(input(\"Enter side 2 : \"))\n",
    "side3 = int(input(\"Enter side 3 : \"))\n",
    "\n",
    "if side1==side2 and side2==side3:\n",
    "    print(\"Equilateral triangle\")\n",
    "elif side1!=side2 and side2!=side3:\n",
    "    print(\"Scalene triangle\")\n",
    "else:\n",
    "    print(\"Neither Equilateral triangle nor scalene triangle\")"
   ]
  },
  {
   "cell_type": "code",
   "execution_count": 21,
   "metadata": {},
   "outputs": [
    {
     "name": "stdout",
     "output_type": "stream",
     "text": [
      "2024 is Leap year\n"
     ]
    }
   ],
   "source": [
    "#13. Write a program in Python to check a given year is leapyear or not.\n",
    "year = int(input(\"Enter the year : \"))\n",
    "\n",
    "if (year%4==0 and year%100!=0) or year%400==0:\n",
    "    print(f\"{year} is Leap year\")\n",
    "else:\n",
    "    print(f\"{year}is not a Leap year\")"
   ]
  },
  {
   "cell_type": "code",
   "execution_count": 22,
   "metadata": {},
   "outputs": [
    {
     "name": "stdout",
     "output_type": "stream",
     "text": [
      "Average is :  90.0\n",
      "Grade : A\n"
     ]
    }
   ],
   "source": [
    "#14. Take marks of a student of four different subject find average depending on average find\n",
    "#Grade(if marks >=75 i.e,’A’ or >=60 but <=75 i.e,’B’ or >=40 but <=60 i.e,’C’ or <=40 i.e,’D’).\n",
    "sum = 0\n",
    "\n",
    "for i in range(4):\n",
    "    marks = int(input(f\"Enter the marks of {int(i)+1}th subject : \"))\n",
    "    sum = sum + marks\n",
    "\n",
    "avg = sum / 4\n",
    "print(\"Average is : \",avg)\n",
    "\n",
    "if avg>=75:\n",
    "    print(\"Grade : A\")\n",
    "elif avg>=60 and avg<=75:\n",
    "    print(\"Grade : B\")\n",
    "elif avg>=40 and avg<=60:\n",
    "    print(\"Grade : B\")\n",
    "else:\n",
    "    print(\"Grade : D\")"
   ]
  },
  {
   "cell_type": "code",
   "execution_count": 23,
   "metadata": {},
   "outputs": [
    {
     "name": "stdout",
     "output_type": "stream",
     "text": [
      "276\n"
     ]
    }
   ],
   "source": [
    "#15. Write a program in Python to implement a simple calculator\n",
    "num1 = int(input(\"Enter 1st number : \"))\n",
    "op = str(input(\"Enter operand : \"))\n",
    "num2 = int(input(\"Enter 2nd number : \"))\n",
    "\n",
    "if op=='+':\n",
    "    print(num1+num2)\n",
    "elif op=='-':\n",
    "    print(num1-num2)\n",
    "elif op=='*':\n",
    "    print(num1*num2)\n",
    "elif op=='/':\n",
    "    print(num1/num2)\n",
    "else:\n",
    "    print(\"Wrong Operand\")"
   ]
  },
  {
   "cell_type": "code",
   "execution_count": 24,
   "metadata": {},
   "outputs": [
    {
     "name": "stdout",
     "output_type": "stream",
     "text": [
      "The roots are real and different: -0.4550953884025593, -4.211571278264107\n"
     ]
    }
   ],
   "source": [
    "#16. Write a program in Python to find the roots of Quadratic equation.\n",
    "import math\n",
    "\n",
    "a = int(input(\"Enter a : \"))\n",
    "b = int(input(\"Enter b : \"))\n",
    "c = int(input(\"Enter c : \"))\n",
    "\n",
    "discriminant = b**2 - 4*a*c\n",
    "\n",
    "if discriminant > 0:\n",
    "    root1 = (-b + math.sqrt(discriminant)) / (2 * a)\n",
    "    root2 = (-b - math.sqrt(discriminant)) / (2 * a)\n",
    "    print(f\"The roots are real and different: {root1}, {root2}\")\n",
    "elif discriminant == 0:\n",
    "    root =  -b / (2 * a)\n",
    "    print(f\"The roots are real and the same: {root1}\")\n",
    "else:\n",
    "    realPart = -b / (2 * a)\n",
    "    imaginaryPart = math.sqrt(-discriminant) / (2 * a)\n",
    "    print(f\"The roots are complex: {realPart} + {imaginaryPart}i, {realPart} - {imaginaryPart}i\")"
   ]
  },
  {
   "cell_type": "code",
   "execution_count": 26,
   "metadata": {},
   "outputs": [
    {
     "name": "stdout",
     "output_type": "stream",
     "text": [
      "1\n",
      "2\n",
      "3\n",
      "4\n",
      "5\n",
      "6\n",
      "7\n",
      "8\n",
      "9\n",
      "10\n"
     ]
    }
   ],
   "source": [
    "#17. Write a program in Python to print 1 to n.\n",
    "\n",
    "n = int(input(\"Enter n :\"))\n",
    "for i in range(1,n+1):\n",
    "    print(i)"
   ]
  },
  {
   "cell_type": "code",
   "execution_count": 27,
   "metadata": {},
   "outputs": [
    {
     "name": "stdout",
     "output_type": "stream",
     "text": [
      "55\n"
     ]
    }
   ],
   "source": [
    "#18. Write a program in Python to print sum of natural number.\n",
    "\n",
    "n = int(input(\"Enter n :\"))\n",
    "sum = 0\n",
    "for i in range(1,n+1):\n",
    "    sum += i\n",
    "print(sum)"
   ]
  },
  {
   "cell_type": "code",
   "execution_count": 28,
   "metadata": {},
   "outputs": [
    {
     "name": "stdout",
     "output_type": "stream",
     "text": [
      "The sum of the digits of the 567 is :  18\n"
     ]
    }
   ],
   "source": [
    "#19. Write a program in Python to print Sum of Digit.\n",
    "\n",
    "num = int(input(\"Enter the number : \"))\n",
    "print(f\"The sum of the digits of the {num} is : \" , end=\" \")\n",
    "sum = 0\n",
    "while(num!=0):\n",
    "    d = num % 10\n",
    "    sum = sum + d\n",
    "    num = num // 10\n",
    "print(sum)"
   ]
  },
  {
   "cell_type": "code",
   "execution_count": 31,
   "metadata": {},
   "outputs": [
    {
     "name": "stdout",
     "output_type": "stream",
     "text": [
      "The factors of 45 is :  1 3 5 9 15 45 "
     ]
    }
   ],
   "source": [
    "#20. Write a program in Python to print Factors of a Number.\n",
    "num = int(input(\"Enter the number : \"))\n",
    "print(f\"The factors of {num} is : \" , end=\" \")\n",
    "for fac in range(1,num+1):\n",
    "    if (num%fac == 0):\n",
    "        print(fac , end=\" \")\n"
   ]
  },
  {
   "cell_type": "code",
   "execution_count": 32,
   "metadata": {},
   "outputs": [
    {
     "name": "stdout",
     "output_type": "stream",
     "text": [
      "The reverse of 4456 is :  6544\n"
     ]
    }
   ],
   "source": [
    "#21. Write a program in Python to print Reverse of a Number.\n",
    "num = int(input(\"Enter the number : \"))\n",
    "print(f\"The reverse of {num} is : \" , end=\" \")\n",
    "rev = 0\n",
    "while num!=0:\n",
    "    d = num % 10\n",
    "    rev = rev*10 +d\n",
    "    num = num // 10\n",
    "print(rev)"
   ]
  },
  {
   "cell_type": "code",
   "execution_count": 33,
   "metadata": {},
   "outputs": [
    {
     "name": "stdout",
     "output_type": "stream",
     "text": [
      "The factorial of 5 is :  120\n"
     ]
    }
   ],
   "source": [
    "#22. Write a Python program to find Factorial of a given number.\n",
    "num = int(input(\"Enter the number : \"))\n",
    "print(f\"The factorial of {num} is : \" , end=\" \")\n",
    "fac = 1\n",
    "for i in range(1,num+1):\n",
    "    fac = fac * i\n",
    "print(fac)"
   ]
  },
  {
   "cell_type": "code",
   "execution_count": 36,
   "metadata": {},
   "outputs": [
    {
     "name": "stdout",
     "output_type": "stream",
     "text": [
      "1221 is palindrome\n"
     ]
    }
   ],
   "source": [
    "#23. Write a Python program to check a number is palindrome or not.\n",
    "num = int(input(\"Enter the number : \"))\n",
    "cpy = num\n",
    "rev = 0\n",
    "while num!=0:\n",
    "    d = num % 10\n",
    "    rev = rev*10 +d\n",
    "    num = num // 10\n",
    "if cpy == rev:\n",
    "    print(f\"{cpy} is palindrome\")\n",
    "else:\n",
    "    print(f\"{cpy} is not palindrome\")"
   ]
  },
  {
   "cell_type": "code",
   "execution_count": 2,
   "metadata": {},
   "outputs": [
    {
     "name": "stdout",
     "output_type": "stream",
     "text": [
      "123 is Not a prime number\n"
     ]
    }
   ],
   "source": [
    "#24. Write a Python program to check a number is prime or not.\n",
    "num = int(input(\"Enter the number : \"))\n",
    "if num < 2:\n",
    "    print(\"Not a prime number\")\n",
    "else:\n",
    "    for i in range(2, num // 2 + 1):\n",
    "        if num % i == 0:\n",
    "            print(f\"{num} is Not a prime number\")\n",
    "            break\n",
    "    else:\n",
    "        print(f\"{123} is Prime number\")"
   ]
  },
  {
   "cell_type": "code",
   "execution_count": null,
   "metadata": {},
   "outputs": [],
   "source": []
  }
 ],
 "metadata": {
  "kernelspec": {
   "display_name": "Python 3",
   "language": "python",
   "name": "python3"
  },
  "language_info": {
   "codemirror_mode": {
    "name": "ipython",
    "version": 3
   },
   "file_extension": ".py",
   "mimetype": "text/x-python",
   "name": "python",
   "nbconvert_exporter": "python",
   "pygments_lexer": "ipython3",
   "version": "3.12.1"
  }
 },
 "nbformat": 4,
 "nbformat_minor": 2
}
